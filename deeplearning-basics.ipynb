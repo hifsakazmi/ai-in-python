{
 "cells": [
  {
   "cell_type": "code",
   "execution_count": 1,
   "metadata": {
    "executionInfo": {
     "elapsed": 3,
     "status": "ok",
     "timestamp": 1734449694139,
     "user": {
      "displayName": "Hifsa Kazmi",
      "userId": "11358809418384740406"
     },
     "user_tz": -300
    },
    "id": "zi8NQuxMJlSw"
   },
   "outputs": [],
   "source": [
    "#import sys\n",
    "#!{sys.executable} -m pip install --user numpy\n",
    "#!{sys.executable} -m pip install --user scikit-learn"
   ]
  },
  {
   "cell_type": "code",
   "execution_count": 2,
   "metadata": {
    "colab": {
     "base_uri": "https://localhost:8080/"
    },
    "executionInfo": {
     "elapsed": 4007,
     "status": "ok",
     "timestamp": 1734449698641,
     "user": {
      "displayName": "Hifsa Kazmi",
      "userId": "11358809418384740406"
     },
     "user_tz": -300
    },
    "id": "9lxM8K5NJs9L",
    "outputId": "fa805e06-e96c-48b0-bcad-93f695334cf1"
   },
   "outputs": [],
   "source": [
    "#from google.colab import drive\n",
    "#drive.mount('/content/drive')"
   ]
  },
  {
   "cell_type": "code",
   "execution_count": 3,
   "metadata": {
    "executionInfo": {
     "elapsed": 20,
     "status": "ok",
     "timestamp": 1734449698641,
     "user": {
      "displayName": "Hifsa Kazmi",
      "userId": "11358809418384740406"
     },
     "user_tz": -300
    },
    "id": "Kvv1a0hdKTDM"
   },
   "outputs": [],
   "source": [
    "import numpy as np\n",
    "from numpy import genfromtxt\n",
    "\n",
    "\n",
    "import warnings\n",
    "warnings.filterwarnings('ignore')"
   ]
  },
  {
   "cell_type": "code",
   "execution_count": 4,
   "metadata": {
    "colab": {
     "base_uri": "https://localhost:8080/"
    },
    "executionInfo": {
     "elapsed": 20,
     "status": "ok",
     "timestamp": 1734449698641,
     "user": {
      "displayName": "Hifsa Kazmi",
      "userId": "11358809418384740406"
     },
     "user_tz": -300
    },
    "id": "iF6g3ynKJylo",
    "outputId": "859e9250-0674-46d2-ebee-7c057a6aedfb"
   },
   "outputs": [
    {
     "data": {
      "text/plain": [
       "array([[  3.6216 ,   8.6661 ,  -2.8073 ,  -0.44699,   0.     ],\n",
       "       [  4.5459 ,   8.1674 ,  -2.4586 ,  -1.4621 ,   0.     ],\n",
       "       [  3.866  ,  -2.6383 ,   1.9242 ,   0.10645,   0.     ],\n",
       "       ...,\n",
       "       [ -3.7503 , -13.4586 ,  17.5932 ,  -2.7771 ,   1.     ],\n",
       "       [ -3.5637 ,  -8.3827 ,  12.393  ,  -1.2823 ,   1.     ],\n",
       "       [ -2.5419 ,  -0.65804,   2.6842 ,   1.1952 ,   1.     ]])"
      ]
     },
     "execution_count": 4,
     "metadata": {},
     "output_type": "execute_result"
    }
   ],
   "source": [
    "data = genfromtxt(\"datasets/bank_note_data.txt\", delimiter=',')\n",
    "data"
   ]
  },
  {
   "cell_type": "code",
   "execution_count": 5,
   "metadata": {
    "colab": {
     "base_uri": "https://localhost:8080/"
    },
    "executionInfo": {
     "elapsed": 20,
     "status": "ok",
     "timestamp": 1734449698642,
     "user": {
      "displayName": "Hifsa Kazmi",
      "userId": "11358809418384740406"
     },
     "user_tz": -300
    },
    "id": "AB_FJXb4LCYG",
    "outputId": "04ee08de-d27f-42e9-faad-86b76180bc06"
   },
   "outputs": [
    {
     "data": {
      "text/plain": [
       "array([0., 0., 0., ..., 1., 1., 1.])"
      ]
     },
     "execution_count": 5,
     "metadata": {},
     "output_type": "execute_result"
    }
   ],
   "source": [
    "labels = data[:, 4]\n",
    "labels"
   ]
  },
  {
   "cell_type": "code",
   "execution_count": 6,
   "metadata": {
    "colab": {
     "base_uri": "https://localhost:8080/"
    },
    "executionInfo": {
     "elapsed": 19,
     "status": "ok",
     "timestamp": 1734449698642,
     "user": {
      "displayName": "Hifsa Kazmi",
      "userId": "11358809418384740406"
     },
     "user_tz": -300
    },
    "id": "dU0NDdEkLHXx",
    "outputId": "dbb5f462-eceb-4073-bbd7-a7d5beaaf98b"
   },
   "outputs": [
    {
     "data": {
      "text/plain": [
       "array([[  3.6216 ,   8.6661 ,  -2.8073 ,  -0.44699],\n",
       "       [  4.5459 ,   8.1674 ,  -2.4586 ,  -1.4621 ],\n",
       "       [  3.866  ,  -2.6383 ,   1.9242 ,   0.10645],\n",
       "       ...,\n",
       "       [ -3.7503 , -13.4586 ,  17.5932 ,  -2.7771 ],\n",
       "       [ -3.5637 ,  -8.3827 ,  12.393  ,  -1.2823 ],\n",
       "       [ -2.5419 ,  -0.65804,   2.6842 ,   1.1952 ]])"
      ]
     },
     "execution_count": 6,
     "metadata": {},
     "output_type": "execute_result"
    }
   ],
   "source": [
    "features = data[:, 0:4]\n",
    "features"
   ]
  },
  {
   "cell_type": "code",
   "execution_count": 7,
   "metadata": {
    "executionInfo": {
     "elapsed": 18,
     "status": "ok",
     "timestamp": 1734449698642,
     "user": {
      "displayName": "Hifsa Kazmi",
      "userId": "11358809418384740406"
     },
     "user_tz": -300
    },
    "id": "Vwg70JmRLkAJ"
   },
   "outputs": [],
   "source": [
    "X = features\n",
    "y = labels"
   ]
  },
  {
   "cell_type": "markdown",
   "metadata": {
    "id": "-hanP984Ln29"
   },
   "source": [
    "# Splitting the Data"
   ]
  },
  {
   "cell_type": "code",
   "execution_count": 8,
   "metadata": {
    "executionInfo": {
     "elapsed": 18,
     "status": "ok",
     "timestamp": 1734449698642,
     "user": {
      "displayName": "Hifsa Kazmi",
      "userId": "11358809418384740406"
     },
     "user_tz": -300
    },
    "id": "sDly3j5_LrYn"
   },
   "outputs": [],
   "source": [
    "from sklearn.model_selection import train_test_split"
   ]
  },
  {
   "cell_type": "code",
   "execution_count": 9,
   "metadata": {
    "executionInfo": {
     "elapsed": 18,
     "status": "ok",
     "timestamp": 1734449698643,
     "user": {
      "displayName": "Hifsa Kazmi",
      "userId": "11358809418384740406"
     },
     "user_tz": -300
    },
    "id": "cj7H51DDL0sm"
   },
   "outputs": [],
   "source": [
    "X_train, X_test, y_train, y_test = train_test_split(X, y, test_size=0.2, random_state=0)"
   ]
  },
  {
   "cell_type": "code",
   "execution_count": 10,
   "metadata": {
    "colab": {
     "base_uri": "https://localhost:8080/"
    },
    "executionInfo": {
     "elapsed": 18,
     "status": "ok",
     "timestamp": 1734449698643,
     "user": {
      "displayName": "Hifsa Kazmi",
      "userId": "11358809418384740406"
     },
     "user_tz": -300
    },
    "id": "gthpE1B2MFIQ",
    "outputId": "b1d44b8f-e259-4fdd-e7bc-387d07ba129a"
   },
   "outputs": [
    {
     "data": {
      "text/plain": [
       "array([[-1.2943  ,  2.6735  , -0.84085 , -2.0323  ],\n",
       "       [-0.40857 ,  3.0977  , -2.9607  , -2.6892  ],\n",
       "       [-1.5228  , -6.4789  ,  5.7568  ,  0.87325 ],\n",
       "       ...,\n",
       "       [ 0.6005  ,  0.99945 , -2.2126  ,  0.097399],\n",
       "       [ 2.0165  , -0.25246 ,  5.1707  ,  1.0763  ],\n",
       "       [-2.0759  , 10.8223  ,  2.6439  , -4.837   ]])"
      ]
     },
     "execution_count": 10,
     "metadata": {},
     "output_type": "execute_result"
    }
   ],
   "source": [
    "X_train"
   ]
  },
  {
   "cell_type": "code",
   "execution_count": 11,
   "metadata": {
    "executionInfo": {
     "elapsed": 17,
     "status": "ok",
     "timestamp": 1734449698643,
     "user": {
      "displayName": "Hifsa Kazmi",
      "userId": "11358809418384740406"
     },
     "user_tz": -300
    },
    "id": "wCZk_-YoNPyw"
   },
   "outputs": [],
   "source": [
    "from sklearn.preprocessing import MinMaxScaler"
   ]
  },
  {
   "cell_type": "code",
   "execution_count": 12,
   "metadata": {
    "executionInfo": {
     "elapsed": 17,
     "status": "ok",
     "timestamp": 1734449698643,
     "user": {
      "displayName": "Hifsa Kazmi",
      "userId": "11358809418384740406"
     },
     "user_tz": -300
    },
    "id": "PvptdQl0NX_-"
   },
   "outputs": [],
   "source": [
    "scaler_obj = MinMaxScaler()"
   ]
  },
  {
   "cell_type": "code",
   "execution_count": 13,
   "metadata": {
    "colab": {
     "base_uri": "https://localhost:8080/",
     "height": 80
    },
    "executionInfo": {
     "elapsed": 17,
     "status": "ok",
     "timestamp": 1734449698643,
     "user": {
      "displayName": "Hifsa Kazmi",
      "userId": "11358809418384740406"
     },
     "user_tz": -300
    },
    "id": "kf1B6g3WNcsq",
    "outputId": "d9c5d81a-dfee-468e-d378-6cde2af824c0"
   },
   "outputs": [
    {
     "data": {
      "text/html": [
       "<style>#sk-container-id-1 {\n",
       "  /* Definition of color scheme common for light and dark mode */\n",
       "  --sklearn-color-text: #000;\n",
       "  --sklearn-color-text-muted: #666;\n",
       "  --sklearn-color-line: gray;\n",
       "  /* Definition of color scheme for unfitted estimators */\n",
       "  --sklearn-color-unfitted-level-0: #fff5e6;\n",
       "  --sklearn-color-unfitted-level-1: #f6e4d2;\n",
       "  --sklearn-color-unfitted-level-2: #ffe0b3;\n",
       "  --sklearn-color-unfitted-level-3: chocolate;\n",
       "  /* Definition of color scheme for fitted estimators */\n",
       "  --sklearn-color-fitted-level-0: #f0f8ff;\n",
       "  --sklearn-color-fitted-level-1: #d4ebff;\n",
       "  --sklearn-color-fitted-level-2: #b3dbfd;\n",
       "  --sklearn-color-fitted-level-3: cornflowerblue;\n",
       "\n",
       "  /* Specific color for light theme */\n",
       "  --sklearn-color-text-on-default-background: var(--sg-text-color, var(--theme-code-foreground, var(--jp-content-font-color1, black)));\n",
       "  --sklearn-color-background: var(--sg-background-color, var(--theme-background, var(--jp-layout-color0, white)));\n",
       "  --sklearn-color-border-box: var(--sg-text-color, var(--theme-code-foreground, var(--jp-content-font-color1, black)));\n",
       "  --sklearn-color-icon: #696969;\n",
       "\n",
       "  @media (prefers-color-scheme: dark) {\n",
       "    /* Redefinition of color scheme for dark theme */\n",
       "    --sklearn-color-text-on-default-background: var(--sg-text-color, var(--theme-code-foreground, var(--jp-content-font-color1, white)));\n",
       "    --sklearn-color-background: var(--sg-background-color, var(--theme-background, var(--jp-layout-color0, #111)));\n",
       "    --sklearn-color-border-box: var(--sg-text-color, var(--theme-code-foreground, var(--jp-content-font-color1, white)));\n",
       "    --sklearn-color-icon: #878787;\n",
       "  }\n",
       "}\n",
       "\n",
       "#sk-container-id-1 {\n",
       "  color: var(--sklearn-color-text);\n",
       "}\n",
       "\n",
       "#sk-container-id-1 pre {\n",
       "  padding: 0;\n",
       "}\n",
       "\n",
       "#sk-container-id-1 input.sk-hidden--visually {\n",
       "  border: 0;\n",
       "  clip: rect(1px 1px 1px 1px);\n",
       "  clip: rect(1px, 1px, 1px, 1px);\n",
       "  height: 1px;\n",
       "  margin: -1px;\n",
       "  overflow: hidden;\n",
       "  padding: 0;\n",
       "  position: absolute;\n",
       "  width: 1px;\n",
       "}\n",
       "\n",
       "#sk-container-id-1 div.sk-dashed-wrapped {\n",
       "  border: 1px dashed var(--sklearn-color-line);\n",
       "  margin: 0 0.4em 0.5em 0.4em;\n",
       "  box-sizing: border-box;\n",
       "  padding-bottom: 0.4em;\n",
       "  background-color: var(--sklearn-color-background);\n",
       "}\n",
       "\n",
       "#sk-container-id-1 div.sk-container {\n",
       "  /* jupyter's `normalize.less` sets `[hidden] { display: none; }`\n",
       "     but bootstrap.min.css set `[hidden] { display: none !important; }`\n",
       "     so we also need the `!important` here to be able to override the\n",
       "     default hidden behavior on the sphinx rendered scikit-learn.org.\n",
       "     See: https://github.com/scikit-learn/scikit-learn/issues/21755 */\n",
       "  display: inline-block !important;\n",
       "  position: relative;\n",
       "}\n",
       "\n",
       "#sk-container-id-1 div.sk-text-repr-fallback {\n",
       "  display: none;\n",
       "}\n",
       "\n",
       "div.sk-parallel-item,\n",
       "div.sk-serial,\n",
       "div.sk-item {\n",
       "  /* draw centered vertical line to link estimators */\n",
       "  background-image: linear-gradient(var(--sklearn-color-text-on-default-background), var(--sklearn-color-text-on-default-background));\n",
       "  background-size: 2px 100%;\n",
       "  background-repeat: no-repeat;\n",
       "  background-position: center center;\n",
       "}\n",
       "\n",
       "/* Parallel-specific style estimator block */\n",
       "\n",
       "#sk-container-id-1 div.sk-parallel-item::after {\n",
       "  content: \"\";\n",
       "  width: 100%;\n",
       "  border-bottom: 2px solid var(--sklearn-color-text-on-default-background);\n",
       "  flex-grow: 1;\n",
       "}\n",
       "\n",
       "#sk-container-id-1 div.sk-parallel {\n",
       "  display: flex;\n",
       "  align-items: stretch;\n",
       "  justify-content: center;\n",
       "  background-color: var(--sklearn-color-background);\n",
       "  position: relative;\n",
       "}\n",
       "\n",
       "#sk-container-id-1 div.sk-parallel-item {\n",
       "  display: flex;\n",
       "  flex-direction: column;\n",
       "}\n",
       "\n",
       "#sk-container-id-1 div.sk-parallel-item:first-child::after {\n",
       "  align-self: flex-end;\n",
       "  width: 50%;\n",
       "}\n",
       "\n",
       "#sk-container-id-1 div.sk-parallel-item:last-child::after {\n",
       "  align-self: flex-start;\n",
       "  width: 50%;\n",
       "}\n",
       "\n",
       "#sk-container-id-1 div.sk-parallel-item:only-child::after {\n",
       "  width: 0;\n",
       "}\n",
       "\n",
       "/* Serial-specific style estimator block */\n",
       "\n",
       "#sk-container-id-1 div.sk-serial {\n",
       "  display: flex;\n",
       "  flex-direction: column;\n",
       "  align-items: center;\n",
       "  background-color: var(--sklearn-color-background);\n",
       "  padding-right: 1em;\n",
       "  padding-left: 1em;\n",
       "}\n",
       "\n",
       "\n",
       "/* Toggleable style: style used for estimator/Pipeline/ColumnTransformer box that is\n",
       "clickable and can be expanded/collapsed.\n",
       "- Pipeline and ColumnTransformer use this feature and define the default style\n",
       "- Estimators will overwrite some part of the style using the `sk-estimator` class\n",
       "*/\n",
       "\n",
       "/* Pipeline and ColumnTransformer style (default) */\n",
       "\n",
       "#sk-container-id-1 div.sk-toggleable {\n",
       "  /* Default theme specific background. It is overwritten whether we have a\n",
       "  specific estimator or a Pipeline/ColumnTransformer */\n",
       "  background-color: var(--sklearn-color-background);\n",
       "}\n",
       "\n",
       "/* Toggleable label */\n",
       "#sk-container-id-1 label.sk-toggleable__label {\n",
       "  cursor: pointer;\n",
       "  display: flex;\n",
       "  width: 100%;\n",
       "  margin-bottom: 0;\n",
       "  padding: 0.5em;\n",
       "  box-sizing: border-box;\n",
       "  text-align: center;\n",
       "  align-items: start;\n",
       "  justify-content: space-between;\n",
       "  gap: 0.5em;\n",
       "}\n",
       "\n",
       "#sk-container-id-1 label.sk-toggleable__label .caption {\n",
       "  font-size: 0.6rem;\n",
       "  font-weight: lighter;\n",
       "  color: var(--sklearn-color-text-muted);\n",
       "}\n",
       "\n",
       "#sk-container-id-1 label.sk-toggleable__label-arrow:before {\n",
       "  /* Arrow on the left of the label */\n",
       "  content: \"▸\";\n",
       "  float: left;\n",
       "  margin-right: 0.25em;\n",
       "  color: var(--sklearn-color-icon);\n",
       "}\n",
       "\n",
       "#sk-container-id-1 label.sk-toggleable__label-arrow:hover:before {\n",
       "  color: var(--sklearn-color-text);\n",
       "}\n",
       "\n",
       "/* Toggleable content - dropdown */\n",
       "\n",
       "#sk-container-id-1 div.sk-toggleable__content {\n",
       "  max-height: 0;\n",
       "  max-width: 0;\n",
       "  overflow: hidden;\n",
       "  text-align: left;\n",
       "  /* unfitted */\n",
       "  background-color: var(--sklearn-color-unfitted-level-0);\n",
       "}\n",
       "\n",
       "#sk-container-id-1 div.sk-toggleable__content.fitted {\n",
       "  /* fitted */\n",
       "  background-color: var(--sklearn-color-fitted-level-0);\n",
       "}\n",
       "\n",
       "#sk-container-id-1 div.sk-toggleable__content pre {\n",
       "  margin: 0.2em;\n",
       "  border-radius: 0.25em;\n",
       "  color: var(--sklearn-color-text);\n",
       "  /* unfitted */\n",
       "  background-color: var(--sklearn-color-unfitted-level-0);\n",
       "}\n",
       "\n",
       "#sk-container-id-1 div.sk-toggleable__content.fitted pre {\n",
       "  /* unfitted */\n",
       "  background-color: var(--sklearn-color-fitted-level-0);\n",
       "}\n",
       "\n",
       "#sk-container-id-1 input.sk-toggleable__control:checked~div.sk-toggleable__content {\n",
       "  /* Expand drop-down */\n",
       "  max-height: 200px;\n",
       "  max-width: 100%;\n",
       "  overflow: auto;\n",
       "}\n",
       "\n",
       "#sk-container-id-1 input.sk-toggleable__control:checked~label.sk-toggleable__label-arrow:before {\n",
       "  content: \"▾\";\n",
       "}\n",
       "\n",
       "/* Pipeline/ColumnTransformer-specific style */\n",
       "\n",
       "#sk-container-id-1 div.sk-label input.sk-toggleable__control:checked~label.sk-toggleable__label {\n",
       "  color: var(--sklearn-color-text);\n",
       "  background-color: var(--sklearn-color-unfitted-level-2);\n",
       "}\n",
       "\n",
       "#sk-container-id-1 div.sk-label.fitted input.sk-toggleable__control:checked~label.sk-toggleable__label {\n",
       "  background-color: var(--sklearn-color-fitted-level-2);\n",
       "}\n",
       "\n",
       "/* Estimator-specific style */\n",
       "\n",
       "/* Colorize estimator box */\n",
       "#sk-container-id-1 div.sk-estimator input.sk-toggleable__control:checked~label.sk-toggleable__label {\n",
       "  /* unfitted */\n",
       "  background-color: var(--sklearn-color-unfitted-level-2);\n",
       "}\n",
       "\n",
       "#sk-container-id-1 div.sk-estimator.fitted input.sk-toggleable__control:checked~label.sk-toggleable__label {\n",
       "  /* fitted */\n",
       "  background-color: var(--sklearn-color-fitted-level-2);\n",
       "}\n",
       "\n",
       "#sk-container-id-1 div.sk-label label.sk-toggleable__label,\n",
       "#sk-container-id-1 div.sk-label label {\n",
       "  /* The background is the default theme color */\n",
       "  color: var(--sklearn-color-text-on-default-background);\n",
       "}\n",
       "\n",
       "/* On hover, darken the color of the background */\n",
       "#sk-container-id-1 div.sk-label:hover label.sk-toggleable__label {\n",
       "  color: var(--sklearn-color-text);\n",
       "  background-color: var(--sklearn-color-unfitted-level-2);\n",
       "}\n",
       "\n",
       "/* Label box, darken color on hover, fitted */\n",
       "#sk-container-id-1 div.sk-label.fitted:hover label.sk-toggleable__label.fitted {\n",
       "  color: var(--sklearn-color-text);\n",
       "  background-color: var(--sklearn-color-fitted-level-2);\n",
       "}\n",
       "\n",
       "/* Estimator label */\n",
       "\n",
       "#sk-container-id-1 div.sk-label label {\n",
       "  font-family: monospace;\n",
       "  font-weight: bold;\n",
       "  display: inline-block;\n",
       "  line-height: 1.2em;\n",
       "}\n",
       "\n",
       "#sk-container-id-1 div.sk-label-container {\n",
       "  text-align: center;\n",
       "}\n",
       "\n",
       "/* Estimator-specific */\n",
       "#sk-container-id-1 div.sk-estimator {\n",
       "  font-family: monospace;\n",
       "  border: 1px dotted var(--sklearn-color-border-box);\n",
       "  border-radius: 0.25em;\n",
       "  box-sizing: border-box;\n",
       "  margin-bottom: 0.5em;\n",
       "  /* unfitted */\n",
       "  background-color: var(--sklearn-color-unfitted-level-0);\n",
       "}\n",
       "\n",
       "#sk-container-id-1 div.sk-estimator.fitted {\n",
       "  /* fitted */\n",
       "  background-color: var(--sklearn-color-fitted-level-0);\n",
       "}\n",
       "\n",
       "/* on hover */\n",
       "#sk-container-id-1 div.sk-estimator:hover {\n",
       "  /* unfitted */\n",
       "  background-color: var(--sklearn-color-unfitted-level-2);\n",
       "}\n",
       "\n",
       "#sk-container-id-1 div.sk-estimator.fitted:hover {\n",
       "  /* fitted */\n",
       "  background-color: var(--sklearn-color-fitted-level-2);\n",
       "}\n",
       "\n",
       "/* Specification for estimator info (e.g. \"i\" and \"?\") */\n",
       "\n",
       "/* Common style for \"i\" and \"?\" */\n",
       "\n",
       ".sk-estimator-doc-link,\n",
       "a:link.sk-estimator-doc-link,\n",
       "a:visited.sk-estimator-doc-link {\n",
       "  float: right;\n",
       "  font-size: smaller;\n",
       "  line-height: 1em;\n",
       "  font-family: monospace;\n",
       "  background-color: var(--sklearn-color-background);\n",
       "  border-radius: 1em;\n",
       "  height: 1em;\n",
       "  width: 1em;\n",
       "  text-decoration: none !important;\n",
       "  margin-left: 0.5em;\n",
       "  text-align: center;\n",
       "  /* unfitted */\n",
       "  border: var(--sklearn-color-unfitted-level-1) 1pt solid;\n",
       "  color: var(--sklearn-color-unfitted-level-1);\n",
       "}\n",
       "\n",
       ".sk-estimator-doc-link.fitted,\n",
       "a:link.sk-estimator-doc-link.fitted,\n",
       "a:visited.sk-estimator-doc-link.fitted {\n",
       "  /* fitted */\n",
       "  border: var(--sklearn-color-fitted-level-1) 1pt solid;\n",
       "  color: var(--sklearn-color-fitted-level-1);\n",
       "}\n",
       "\n",
       "/* On hover */\n",
       "div.sk-estimator:hover .sk-estimator-doc-link:hover,\n",
       ".sk-estimator-doc-link:hover,\n",
       "div.sk-label-container:hover .sk-estimator-doc-link:hover,\n",
       ".sk-estimator-doc-link:hover {\n",
       "  /* unfitted */\n",
       "  background-color: var(--sklearn-color-unfitted-level-3);\n",
       "  color: var(--sklearn-color-background);\n",
       "  text-decoration: none;\n",
       "}\n",
       "\n",
       "div.sk-estimator.fitted:hover .sk-estimator-doc-link.fitted:hover,\n",
       ".sk-estimator-doc-link.fitted:hover,\n",
       "div.sk-label-container:hover .sk-estimator-doc-link.fitted:hover,\n",
       ".sk-estimator-doc-link.fitted:hover {\n",
       "  /* fitted */\n",
       "  background-color: var(--sklearn-color-fitted-level-3);\n",
       "  color: var(--sklearn-color-background);\n",
       "  text-decoration: none;\n",
       "}\n",
       "\n",
       "/* Span, style for the box shown on hovering the info icon */\n",
       ".sk-estimator-doc-link span {\n",
       "  display: none;\n",
       "  z-index: 9999;\n",
       "  position: relative;\n",
       "  font-weight: normal;\n",
       "  right: .2ex;\n",
       "  padding: .5ex;\n",
       "  margin: .5ex;\n",
       "  width: min-content;\n",
       "  min-width: 20ex;\n",
       "  max-width: 50ex;\n",
       "  color: var(--sklearn-color-text);\n",
       "  box-shadow: 2pt 2pt 4pt #999;\n",
       "  /* unfitted */\n",
       "  background: var(--sklearn-color-unfitted-level-0);\n",
       "  border: .5pt solid var(--sklearn-color-unfitted-level-3);\n",
       "}\n",
       "\n",
       ".sk-estimator-doc-link.fitted span {\n",
       "  /* fitted */\n",
       "  background: var(--sklearn-color-fitted-level-0);\n",
       "  border: var(--sklearn-color-fitted-level-3);\n",
       "}\n",
       "\n",
       ".sk-estimator-doc-link:hover span {\n",
       "  display: block;\n",
       "}\n",
       "\n",
       "/* \"?\"-specific style due to the `<a>` HTML tag */\n",
       "\n",
       "#sk-container-id-1 a.estimator_doc_link {\n",
       "  float: right;\n",
       "  font-size: 1rem;\n",
       "  line-height: 1em;\n",
       "  font-family: monospace;\n",
       "  background-color: var(--sklearn-color-background);\n",
       "  border-radius: 1rem;\n",
       "  height: 1rem;\n",
       "  width: 1rem;\n",
       "  text-decoration: none;\n",
       "  /* unfitted */\n",
       "  color: var(--sklearn-color-unfitted-level-1);\n",
       "  border: var(--sklearn-color-unfitted-level-1) 1pt solid;\n",
       "}\n",
       "\n",
       "#sk-container-id-1 a.estimator_doc_link.fitted {\n",
       "  /* fitted */\n",
       "  border: var(--sklearn-color-fitted-level-1) 1pt solid;\n",
       "  color: var(--sklearn-color-fitted-level-1);\n",
       "}\n",
       "\n",
       "/* On hover */\n",
       "#sk-container-id-1 a.estimator_doc_link:hover {\n",
       "  /* unfitted */\n",
       "  background-color: var(--sklearn-color-unfitted-level-3);\n",
       "  color: var(--sklearn-color-background);\n",
       "  text-decoration: none;\n",
       "}\n",
       "\n",
       "#sk-container-id-1 a.estimator_doc_link.fitted:hover {\n",
       "  /* fitted */\n",
       "  background-color: var(--sklearn-color-fitted-level-3);\n",
       "}\n",
       "</style><div id=\"sk-container-id-1\" class=\"sk-top-container\"><div class=\"sk-text-repr-fallback\"><pre>MinMaxScaler()</pre><b>In a Jupyter environment, please rerun this cell to show the HTML representation or trust the notebook. <br />On GitHub, the HTML representation is unable to render, please try loading this page with nbviewer.org.</b></div><div class=\"sk-container\" hidden><div class=\"sk-item\"><div class=\"sk-estimator fitted sk-toggleable\"><input class=\"sk-toggleable__control sk-hidden--visually\" id=\"sk-estimator-id-1\" type=\"checkbox\" checked><label for=\"sk-estimator-id-1\" class=\"sk-toggleable__label fitted sk-toggleable__label-arrow\"><div><div>MinMaxScaler</div></div><div><a class=\"sk-estimator-doc-link fitted\" rel=\"noreferrer\" target=\"_blank\" href=\"https://scikit-learn.org/1.6/modules/generated/sklearn.preprocessing.MinMaxScaler.html\">?<span>Documentation for MinMaxScaler</span></a><span class=\"sk-estimator-doc-link fitted\">i<span>Fitted</span></span></div></label><div class=\"sk-toggleable__content fitted\"><pre>MinMaxScaler()</pre></div> </div></div></div></div>"
      ],
      "text/plain": [
       "MinMaxScaler()"
      ]
     },
     "execution_count": 13,
     "metadata": {},
     "output_type": "execute_result"
    }
   ],
   "source": [
    "scaler_obj.fit(X_train)"
   ]
  },
  {
   "cell_type": "code",
   "execution_count": 14,
   "metadata": {
    "executionInfo": {
     "elapsed": 15,
     "status": "ok",
     "timestamp": 1734449698643,
     "user": {
      "displayName": "Hifsa Kazmi",
      "userId": "11358809418384740406"
     },
     "user_tz": -300
    },
    "id": "m4Wbz0GbNsJ2"
   },
   "outputs": [],
   "source": [
    "scaled_X_train = scaler_obj.transform(X_train)"
   ]
  },
  {
   "cell_type": "code",
   "execution_count": 15,
   "metadata": {
    "executionInfo": {
     "elapsed": 15,
     "status": "ok",
     "timestamp": 1734449698643,
     "user": {
      "displayName": "Hifsa Kazmi",
      "userId": "11358809418384740406"
     },
     "user_tz": -300
    },
    "id": "eiJeEHLAOFs6"
   },
   "outputs": [],
   "source": [
    "scaled_X_test = scaler_obj.transform(X_test)"
   ]
  },
  {
   "cell_type": "code",
   "execution_count": 16,
   "metadata": {
    "colab": {
     "base_uri": "https://localhost:8080/"
    },
    "executionInfo": {
     "elapsed": 17,
     "status": "ok",
     "timestamp": 1734449698645,
     "user": {
      "displayName": "Hifsa Kazmi",
      "userId": "11358809418384740406"
     },
     "user_tz": -300
    },
    "id": "YDbnYGTxOKKE",
    "outputId": "e2b3d045-85e1-44d1-e2f6-87bb910ef87b"
   },
   "outputs": [
    {
     "data": {
      "text/plain": [
       "array([[0.38009937, 0.11250267, 0.66790876, 0.66254348],\n",
       "       [0.87793234, 0.51420791, 0.24176708, 0.86962129],\n",
       "       [0.36253236, 0.6533469 , 0.14420919, 0.38041779],\n",
       "       ...,\n",
       "       [0.3516936 , 0.62841491, 0.12375988, 0.52382069],\n",
       "       [0.54302476, 0.64885668, 0.03868008, 0.3882538 ],\n",
       "       [0.19293425, 0.74247045, 0.25236091, 0.22653105]])"
      ]
     },
     "execution_count": 16,
     "metadata": {},
     "output_type": "execute_result"
    }
   ],
   "source": [
    "scaled_X_test"
   ]
  },
  {
   "cell_type": "markdown",
   "metadata": {
    "id": "OteGP5ezO1mk"
   },
   "source": [
    "# Build the Neutral Network"
   ]
  },
  {
   "cell_type": "code",
   "execution_count": 17,
   "metadata": {
    "colab": {
     "base_uri": "https://localhost:8080/"
    },
    "executionInfo": {
     "elapsed": 1715,
     "status": "ok",
     "timestamp": 1734449700344,
     "user": {
      "displayName": "Hifsa Kazmi",
      "userId": "11358809418384740406"
     },
     "user_tz": -300
    },
    "id": "wsFgsneAO4Ii",
    "outputId": "56392cae-31a0-458f-d530-e279954678fc"
   },
   "outputs": [],
   "source": [
    "#!pip install keras"
   ]
  },
  {
   "cell_type": "code",
   "execution_count": 18,
   "metadata": {
    "executionInfo": {
     "elapsed": 2,
     "status": "ok",
     "timestamp": 1734449700344,
     "user": {
      "displayName": "Hifsa Kazmi",
      "userId": "11358809418384740406"
     },
     "user_tz": -300
    },
    "id": "Htpq4Sn2OzNA"
   },
   "outputs": [],
   "source": [
    "from keras.models import Sequential\n",
    "from keras.layers import Dense"
   ]
  },
  {
   "cell_type": "code",
   "execution_count": 19,
   "metadata": {},
   "outputs": [],
   "source": [
    "#pip install --upgrade tensorflow"
   ]
  },
  {
   "cell_type": "code",
   "execution_count": 20,
   "metadata": {
    "executionInfo": {
     "elapsed": 360,
     "status": "ok",
     "timestamp": 1734450531829,
     "user": {
      "displayName": "Hifsa Kazmi",
      "userId": "11358809418384740406"
     },
     "user_tz": -300
    },
    "id": "Ad8Si0XtPgI6"
   },
   "outputs": [],
   "source": [
    "#creating the model in a sequence\n",
    "model = Sequential()\n",
    "\n",
    "#first layer of neural network, it has 4 neurons\n",
    "#input_dim = input dimension - number of columns in input dataset\n",
    "model.add(Dense(4, input_dim=4, activation='relu'))\n",
    "\n",
    "#second hidden layer of neural network with 2 neurons\n",
    "model.add(Dense(2, activation='relu'))\n",
    "\n",
    "# Output layer of neural network with 1 neuron\n",
    "# with sigmoid we only get 0 or 1\n",
    "# whenever output is binary, sigmoid is used\n",
    "model.add(Dense(1, activation='sigmoid'))"
   ]
  },
  {
   "cell_type": "markdown",
   "metadata": {
    "id": "CXOxaoqJURXa"
   },
   "source": [
    "# Compile Model"
   ]
  },
  {
   "cell_type": "code",
   "execution_count": 21,
   "metadata": {
    "executionInfo": {
     "elapsed": 350,
     "status": "ok",
     "timestamp": 1734450757967,
     "user": {
      "displayName": "Hifsa Kazmi",
      "userId": "11358809418384740406"
     },
     "user_tz": -300
    },
    "id": "Ngf7xTc4UNr1"
   },
   "outputs": [],
   "source": [
    "# compile model\n",
    "# optimizer: kinda helps with gradient descent\n",
    "# optimizer can be adam, sgd(stochastic gradient descent), adam_w\n",
    "# because of binary output values, we use binary_crossentropy loss function\n",
    "model.compile(loss='binary_crossentropy', optimizer='adam', metrics=['accuracy'])"
   ]
  },
  {
   "cell_type": "markdown",
   "metadata": {
    "id": "Qg4Xr39RUnyw"
   },
   "source": [
    "# Training the Model"
   ]
  },
  {
   "cell_type": "code",
   "execution_count": 22,
   "metadata": {
    "colab": {
     "base_uri": "https://localhost:8080/"
    },
    "executionInfo": {
     "elapsed": 6759,
     "status": "ok",
     "timestamp": 1734451884918,
     "user": {
      "displayName": "Hifsa Kazmi",
      "userId": "11358809418384740406"
     },
     "user_tz": -300
    },
    "id": "8kdbdrYhUkSc",
    "outputId": "74c37888-359e-4e43-e80d-cdf2f6a9644b"
   },
   "outputs": [
    {
     "name": "stdout",
     "output_type": "stream",
     "text": [
      "Epoch 1/50\n",
      "35/35 - 2s - 51ms/step - accuracy: 0.5515 - loss: 0.6892\n",
      "Epoch 2/50\n",
      "35/35 - 0s - 4ms/step - accuracy: 0.5515 - loss: 0.6797\n",
      "Epoch 3/50\n",
      "35/35 - 0s - 4ms/step - accuracy: 0.5515 - loss: 0.6722\n",
      "Epoch 4/50\n",
      "35/35 - 0s - 5ms/step - accuracy: 0.5515 - loss: 0.6671\n",
      "Epoch 5/50\n",
      "35/35 - 0s - 5ms/step - accuracy: 0.5515 - loss: 0.6627\n",
      "Epoch 6/50\n",
      "35/35 - 0s - 4ms/step - accuracy: 0.5515 - loss: 0.6579\n",
      "Epoch 7/50\n",
      "35/35 - 0s - 5ms/step - accuracy: 0.5515 - loss: 0.6537\n",
      "Epoch 8/50\n",
      "35/35 - 0s - 5ms/step - accuracy: 0.5515 - loss: 0.6488\n",
      "Epoch 9/50\n",
      "35/35 - 0s - 5ms/step - accuracy: 0.5697 - loss: 0.6435\n",
      "Epoch 10/50\n",
      "35/35 - 0s - 5ms/step - accuracy: 0.6007 - loss: 0.6383\n",
      "Epoch 11/50\n",
      "35/35 - 0s - 5ms/step - accuracy: 0.6117 - loss: 0.6327\n",
      "Epoch 12/50\n",
      "35/35 - 0s - 5ms/step - accuracy: 0.6144 - loss: 0.6268\n",
      "Epoch 13/50\n",
      "35/35 - 0s - 5ms/step - accuracy: 0.6217 - loss: 0.6205\n",
      "Epoch 14/50\n",
      "35/35 - 0s - 4ms/step - accuracy: 0.6427 - loss: 0.6142\n",
      "Epoch 15/50\n",
      "35/35 - 0s - 5ms/step - accuracy: 0.6427 - loss: 0.6076\n",
      "Epoch 16/50\n",
      "35/35 - 0s - 4ms/step - accuracy: 0.6618 - loss: 0.6006\n",
      "Epoch 17/50\n",
      "35/35 - 0s - 4ms/step - accuracy: 0.6709 - loss: 0.5937\n",
      "Epoch 18/50\n",
      "35/35 - 0s - 5ms/step - accuracy: 0.7092 - loss: 0.5863\n",
      "Epoch 19/50\n",
      "35/35 - 0s - 4ms/step - accuracy: 0.7110 - loss: 0.5789\n",
      "Epoch 20/50\n",
      "35/35 - 0s - 5ms/step - accuracy: 0.7411 - loss: 0.5709\n",
      "Epoch 21/50\n",
      "35/35 - 0s - 5ms/step - accuracy: 0.7521 - loss: 0.5635\n",
      "Epoch 22/50\n",
      "35/35 - 0s - 5ms/step - accuracy: 0.7639 - loss: 0.5557\n",
      "Epoch 23/50\n",
      "35/35 - 0s - 5ms/step - accuracy: 0.7657 - loss: 0.5473\n",
      "Epoch 24/50\n",
      "35/35 - 0s - 4ms/step - accuracy: 0.7730 - loss: 0.5393\n",
      "Epoch 25/50\n",
      "35/35 - 0s - 4ms/step - accuracy: 0.7803 - loss: 0.5313\n",
      "Epoch 26/50\n",
      "35/35 - 0s - 4ms/step - accuracy: 0.7912 - loss: 0.5232\n",
      "Epoch 27/50\n",
      "35/35 - 0s - 5ms/step - accuracy: 0.8086 - loss: 0.5152\n",
      "Epoch 28/50\n",
      "35/35 - 0s - 3ms/step - accuracy: 0.8131 - loss: 0.5072\n",
      "Epoch 29/50\n",
      "35/35 - 0s - 4ms/step - accuracy: 0.8095 - loss: 0.4993\n",
      "Epoch 30/50\n",
      "35/35 - 0s - 4ms/step - accuracy: 0.8213 - loss: 0.4915\n",
      "Epoch 31/50\n",
      "35/35 - 0s - 5ms/step - accuracy: 0.8195 - loss: 0.4836\n",
      "Epoch 32/50\n",
      "35/35 - 0s - 5ms/step - accuracy: 0.8277 - loss: 0.4751\n",
      "Epoch 33/50\n",
      "35/35 - 0s - 5ms/step - accuracy: 0.8314 - loss: 0.4671\n",
      "Epoch 34/50\n",
      "35/35 - 0s - 5ms/step - accuracy: 0.8286 - loss: 0.4593\n",
      "Epoch 35/50\n",
      "35/35 - 0s - 4ms/step - accuracy: 0.8387 - loss: 0.4520\n",
      "Epoch 36/50\n",
      "35/35 - 0s - 5ms/step - accuracy: 0.8469 - loss: 0.4435\n",
      "Epoch 37/50\n",
      "35/35 - 0s - 4ms/step - accuracy: 0.8487 - loss: 0.4357\n",
      "Epoch 38/50\n",
      "35/35 - 0s - 4ms/step - accuracy: 0.8578 - loss: 0.4281\n",
      "Epoch 39/50\n",
      "35/35 - 0s - 4ms/step - accuracy: 0.8642 - loss: 0.4205\n",
      "Epoch 40/50\n",
      "35/35 - 0s - 4ms/step - accuracy: 0.8660 - loss: 0.4128\n",
      "Epoch 41/50\n",
      "35/35 - 0s - 5ms/step - accuracy: 0.8733 - loss: 0.4053\n",
      "Epoch 42/50\n",
      "35/35 - 0s - 5ms/step - accuracy: 0.8788 - loss: 0.3981\n",
      "Epoch 43/50\n",
      "35/35 - 0s - 4ms/step - accuracy: 0.8833 - loss: 0.3910\n",
      "Epoch 44/50\n",
      "35/35 - 0s - 4ms/step - accuracy: 0.8933 - loss: 0.3834\n",
      "Epoch 45/50\n",
      "35/35 - 0s - 4ms/step - accuracy: 0.8879 - loss: 0.3760\n",
      "Epoch 46/50\n",
      "35/35 - 0s - 3ms/step - accuracy: 0.8961 - loss: 0.3695\n",
      "Epoch 47/50\n",
      "35/35 - 0s - 4ms/step - accuracy: 0.8943 - loss: 0.3626\n",
      "Epoch 48/50\n",
      "35/35 - 0s - 3ms/step - accuracy: 0.9098 - loss: 0.3551\n",
      "Epoch 49/50\n",
      "35/35 - 0s - 4ms/step - accuracy: 0.9070 - loss: 0.3480\n",
      "Epoch 50/50\n",
      "35/35 - 0s - 5ms/step - accuracy: 0.9134 - loss: 0.3415\n"
     ]
    },
    {
     "data": {
      "text/plain": [
       "<keras.src.callbacks.history.History at 0x24aa3f7d610>"
      ]
     },
     "execution_count": 22,
     "metadata": {},
     "output_type": "execute_result"
    }
   ],
   "source": [
    "model.fit(scaled_X_train, y_train, epochs=50, verbose=2)"
   ]
  },
  {
   "cell_type": "code",
   "execution_count": 23,
   "metadata": {
    "colab": {
     "base_uri": "https://localhost:8080/"
    },
    "executionInfo": {
     "elapsed": 347,
     "status": "ok",
     "timestamp": 1734451948060,
     "user": {
      "displayName": "Hifsa Kazmi",
      "userId": "11358809418384740406"
     },
     "user_tz": -300
    },
    "id": "F_f738PnZDku",
    "outputId": "c417c65c-76fb-4107-84d1-a03de8562ca2"
   },
   "outputs": [
    {
     "data": {
      "text/plain": [
       "array([[0.38009937, 0.11250267, 0.66790876, 0.66254348],\n",
       "       [0.87793234, 0.51420791, 0.24176708, 0.86962129],\n",
       "       [0.36253236, 0.6533469 , 0.14420919, 0.38041779],\n",
       "       ...,\n",
       "       [0.3516936 , 0.62841491, 0.12375988, 0.52382069],\n",
       "       [0.54302476, 0.64885668, 0.03868008, 0.3882538 ],\n",
       "       [0.19293425, 0.74247045, 0.25236091, 0.22653105]])"
      ]
     },
     "execution_count": 23,
     "metadata": {},
     "output_type": "execute_result"
    }
   ],
   "source": [
    "scaled_X_test"
   ]
  },
  {
   "cell_type": "code",
   "execution_count": 24,
   "metadata": {
    "colab": {
     "base_uri": "https://localhost:8080/"
    },
    "executionInfo": {
     "elapsed": 328,
     "status": "ok",
     "timestamp": 1734452044570,
     "user": {
      "displayName": "Hifsa Kazmi",
      "userId": "11358809418384740406"
     },
     "user_tz": -300
    },
    "id": "Yx4jtZkMZcxd",
    "outputId": "cbf53c3d-51c0-4133-ff9f-e95fffc1f980"
   },
   "outputs": [
    {
     "data": {
      "text/plain": [
       "array([1., 0., 1., 0., 0., 0., 0., 0., 1., 1., 0., 0., 1., 0., 0., 0., 1.,\n",
       "       1., 0., 0., 1., 0., 0., 1., 0., 1., 0., 1., 0., 0., 1., 0., 1., 1.,\n",
       "       1., 0., 0., 1., 0., 1., 0., 1., 0., 0., 1., 1., 0., 0., 1., 0., 0.,\n",
       "       1., 0., 1., 1., 0., 1., 1., 0., 1., 1., 0., 0., 0., 0., 1., 1., 1.,\n",
       "       1., 0., 1., 0., 1., 0., 0., 1., 0., 0., 0., 0., 1., 1., 0., 0., 1.,\n",
       "       1., 0., 0., 0., 0., 0., 1., 1., 1., 1., 0., 0., 0., 1., 1., 0., 1.,\n",
       "       0., 0., 0., 1., 0., 1., 1., 1., 0., 1., 0., 0., 1., 0., 0., 0., 1.,\n",
       "       1., 0., 0., 1., 1., 1., 1., 1., 0., 1., 0., 0., 0., 0., 0., 0., 1.,\n",
       "       0., 0., 0., 0., 1., 0., 1., 1., 0., 0., 1., 0., 0., 1., 0., 0., 0.,\n",
       "       0., 1., 0., 1., 0., 1., 0., 0., 1., 0., 1., 0., 1., 1., 0., 1., 1.,\n",
       "       0., 1., 1., 1., 1., 0., 0., 0., 1., 1., 0., 1., 0., 0., 0., 1., 0.,\n",
       "       1., 1., 0., 0., 0., 1., 0., 1., 0., 0., 0., 1., 1., 0., 0., 0., 0.,\n",
       "       0., 0., 0., 0., 1., 0., 0., 1., 0., 0., 0., 1., 1., 0., 0., 0., 0.,\n",
       "       0., 0., 0., 0., 1., 1., 0., 0., 0., 0., 1., 1., 0., 1., 1., 0., 0.,\n",
       "       1., 1., 0., 1., 1., 0., 1., 0., 0., 0., 0., 0., 0., 1., 0., 1., 1.,\n",
       "       0., 0., 1., 1., 1., 0., 0., 0., 1., 0., 0., 1., 1., 0., 1., 1., 0.,\n",
       "       1., 1., 1.])"
      ]
     },
     "execution_count": 24,
     "metadata": {},
     "output_type": "execute_result"
    }
   ],
   "source": [
    "y_test"
   ]
  },
  {
   "cell_type": "markdown",
   "metadata": {
    "id": "iUtP_9dDZHuU"
   },
   "source": [
    "# Prediction on Unseen Values"
   ]
  },
  {
   "cell_type": "code",
   "execution_count": 25,
   "metadata": {
    "colab": {
     "base_uri": "https://localhost:8080/"
    },
    "executionInfo": {
     "elapsed": 336,
     "status": "ok",
     "timestamp": 1734451982313,
     "user": {
      "displayName": "Hifsa Kazmi",
      "userId": "11358809418384740406"
     },
     "user_tz": -300
    },
    "id": "qiwID3uBZKmE",
    "outputId": "5bedb1a8-450a-4f12-9f81-7e5dcbfe8f21"
   },
   "outputs": [
    {
     "name": "stdout",
     "output_type": "stream",
     "text": [
      "\u001b[1m9/9\u001b[0m \u001b[32m━━━━━━━━━━━━━━━━━━━━\u001b[0m\u001b[37m\u001b[0m \u001b[1m0s\u001b[0m 8ms/step \n"
     ]
    }
   ],
   "source": [
    "predictions = model.predict(scaled_X_test)"
   ]
  },
  {
   "cell_type": "code",
   "execution_count": 26,
   "metadata": {
    "colab": {
     "base_uri": "https://localhost:8080/"
    },
    "executionInfo": {
     "elapsed": 348,
     "status": "ok",
     "timestamp": 1734452118617,
     "user": {
      "displayName": "Hifsa Kazmi",
      "userId": "11358809418384740406"
     },
     "user_tz": -300
    },
    "id": "nc8-YshrZQfD",
    "outputId": "3062eab2-4368-4003-b3b0-08a4be7e17a6"
   },
   "outputs": [
    {
     "data": {
      "text/plain": [
       "array([[0.6588417 ],\n",
       "       [0.07415015],\n",
       "       [0.6165702 ],\n",
       "       [0.23144084],\n",
       "       [0.06508421],\n",
       "       [0.14362997],\n",
       "       [0.28160816],\n",
       "       [0.12491398],\n",
       "       [0.72532964],\n",
       "       [0.72532964],\n",
       "       [0.22818264],\n",
       "       [0.03313619],\n",
       "       [0.61772287],\n",
       "       [0.04019263],\n",
       "       [0.04878009],\n",
       "       [0.08960139],\n",
       "       [0.72532964],\n",
       "       [0.51503026],\n",
       "       [0.10987019],\n",
       "       [0.08394824],\n",
       "       [0.72532964],\n",
       "       [0.15515248],\n",
       "       [0.04430258],\n",
       "       [0.65036404],\n",
       "       [0.5061671 ],\n",
       "       [0.54221666],\n",
       "       [0.0640254 ],\n",
       "       [0.69421226],\n",
       "       [0.1456248 ],\n",
       "       [0.2526076 ],\n",
       "       [0.72532964],\n",
       "       [0.34639314],\n",
       "       [0.6800773 ],\n",
       "       [0.72532964],\n",
       "       [0.72532964],\n",
       "       [0.23020925],\n",
       "       [0.11266615],\n",
       "       [0.72532964],\n",
       "       [0.41238368],\n",
       "       [0.70751524],\n",
       "       [0.39820558],\n",
       "       [0.72532964],\n",
       "       [0.1115562 ],\n",
       "       [0.30316174],\n",
       "       [0.6953716 ],\n",
       "       [0.72532964],\n",
       "       [0.05687945],\n",
       "       [0.07362131],\n",
       "       [0.72532964],\n",
       "       [0.17514047],\n",
       "       [0.15236102],\n",
       "       [0.72532964],\n",
       "       [0.5581796 ],\n",
       "       [0.7040383 ],\n",
       "       [0.68021786],\n",
       "       [0.0968907 ],\n",
       "       [0.69554174],\n",
       "       [0.72532964],\n",
       "       [0.3794298 ],\n",
       "       [0.72532964],\n",
       "       [0.27136856],\n",
       "       [0.30689228],\n",
       "       [0.15792066],\n",
       "       [0.03278184],\n",
       "       [0.19845274],\n",
       "       [0.72532964],\n",
       "       [0.72532964],\n",
       "       [0.7174086 ],\n",
       "       [0.36288863],\n",
       "       [0.10035445],\n",
       "       [0.41763076],\n",
       "       [0.04247974],\n",
       "       [0.72532964],\n",
       "       [0.29906845],\n",
       "       [0.25714073],\n",
       "       [0.7187433 ],\n",
       "       [0.07338698],\n",
       "       [0.1005326 ],\n",
       "       [0.1095266 ],\n",
       "       [0.07899579],\n",
       "       [0.5687218 ],\n",
       "       [0.7084087 ],\n",
       "       [0.09742821],\n",
       "       [0.05370694],\n",
       "       [0.61566776],\n",
       "       [0.690387  ],\n",
       "       [0.03545808],\n",
       "       [0.12357979],\n",
       "       [0.0298549 ],\n",
       "       [0.1422831 ],\n",
       "       [0.1039662 ],\n",
       "       [0.72532964],\n",
       "       [0.72532964],\n",
       "       [0.5507948 ],\n",
       "       [0.72532964],\n",
       "       [0.25484017],\n",
       "       [0.05070502],\n",
       "       [0.12059263],\n",
       "       [0.72532964],\n",
       "       [0.72532964],\n",
       "       [0.04202048],\n",
       "       [0.72532964],\n",
       "       [0.10627019],\n",
       "       [0.40780655],\n",
       "       [0.13826998],\n",
       "       [0.66335225],\n",
       "       [0.18092568],\n",
       "       [0.72532964],\n",
       "       [0.71687603],\n",
       "       [0.72532964],\n",
       "       [0.17627694],\n",
       "       [0.72532964],\n",
       "       [0.12939249],\n",
       "       [0.23295507],\n",
       "       [0.60797346],\n",
       "       [0.25291827],\n",
       "       [0.249554  ],\n",
       "       [0.12211048],\n",
       "       [0.6848564 ],\n",
       "       [0.72532964],\n",
       "       [0.07736068],\n",
       "       [0.02157159],\n",
       "       [0.69229233],\n",
       "       [0.72532964],\n",
       "       [0.50593096],\n",
       "       [0.72532964],\n",
       "       [0.5097986 ],\n",
       "       [0.22455356],\n",
       "       [0.44677746],\n",
       "       [0.1782624 ],\n",
       "       [0.20108932],\n",
       "       [0.14021935],\n",
       "       [0.02002327],\n",
       "       [0.25714073],\n",
       "       [0.28532845],\n",
       "       [0.6716037 ],\n",
       "       [0.20538837],\n",
       "       [0.0387558 ],\n",
       "       [0.09374863],\n",
       "       [0.34165347],\n",
       "       [0.6158429 ],\n",
       "       [0.04569774],\n",
       "       [0.72532964],\n",
       "       [0.6677435 ],\n",
       "       [0.15687242],\n",
       "       [0.06295862],\n",
       "       [0.25697246],\n",
       "       [0.19692484],\n",
       "       [0.04930038],\n",
       "       [0.72532964],\n",
       "       [0.27865833],\n",
       "       [0.25173703],\n",
       "       [0.09645217],\n",
       "       [0.20731713],\n",
       "       [0.72532964],\n",
       "       [0.16945674],\n",
       "       [0.4965435 ],\n",
       "       [0.11839572],\n",
       "       [0.70222765],\n",
       "       [0.5767356 ],\n",
       "       [0.11532931],\n",
       "       [0.72532964],\n",
       "       [0.41958192],\n",
       "       [0.4913381 ],\n",
       "       [0.2489202 ],\n",
       "       [0.72532964],\n",
       "       [0.72532964],\n",
       "       [0.22922544],\n",
       "       [0.6438697 ],\n",
       "       [0.6825858 ],\n",
       "       [0.10286035],\n",
       "       [0.72532964],\n",
       "       [0.72532964],\n",
       "       [0.26620886],\n",
       "       [0.72532964],\n",
       "       [0.12676609],\n",
       "       [0.27134046],\n",
       "       [0.09849107],\n",
       "       [0.72532964],\n",
       "       [0.40963107],\n",
       "       [0.24583545],\n",
       "       [0.66644883],\n",
       "       [0.53765374],\n",
       "       [0.35992044],\n",
       "       [0.21818785],\n",
       "       [0.72532964],\n",
       "       [0.08749247],\n",
       "       [0.71780086],\n",
       "       [0.72532964],\n",
       "       [0.34028772],\n",
       "       [0.25713974],\n",
       "       [0.12969553],\n",
       "       [0.3667363 ],\n",
       "       [0.24900976],\n",
       "       [0.65056443],\n",
       "       [0.07057661],\n",
       "       [0.11115713],\n",
       "       [0.19881576],\n",
       "       [0.65429056],\n",
       "       [0.30789688],\n",
       "       [0.30847502],\n",
       "       [0.1878512 ],\n",
       "       [0.02177295],\n",
       "       [0.05767136],\n",
       "       [0.16181377],\n",
       "       [0.27317864],\n",
       "       [0.07001396],\n",
       "       [0.201078  ],\n",
       "       [0.4544558 ],\n",
       "       [0.20863436],\n",
       "       [0.03722508],\n",
       "       [0.6454401 ],\n",
       "       [0.11821218],\n",
       "       [0.15828662],\n",
       "       [0.01957154],\n",
       "       [0.7235566 ],\n",
       "       [0.52583313],\n",
       "       [0.09457991],\n",
       "       [0.1477634 ],\n",
       "       [0.17040874],\n",
       "       [0.19185448],\n",
       "       [0.17916851],\n",
       "       [0.16279781],\n",
       "       [0.11150418],\n",
       "       [0.22941923],\n",
       "       [0.69703   ],\n",
       "       [0.3436885 ],\n",
       "       [0.11161633],\n",
       "       [0.51640975],\n",
       "       [0.24247718],\n",
       "       [0.31678784],\n",
       "       [0.70576656],\n",
       "       [0.69091713],\n",
       "       [0.14590304],\n",
       "       [0.72532964],\n",
       "       [0.2767608 ],\n",
       "       [0.13846731],\n",
       "       [0.42747432],\n",
       "       [0.7035823 ],\n",
       "       [0.72532964],\n",
       "       [0.13947456],\n",
       "       [0.71543837],\n",
       "       [0.72532964],\n",
       "       [0.09504924],\n",
       "       [0.5948166 ],\n",
       "       [0.07803128],\n",
       "       [0.01866779],\n",
       "       [0.328704  ],\n",
       "       [0.21782173],\n",
       "       [0.1559292 ],\n",
       "       [0.39320585],\n",
       "       [0.72532964],\n",
       "       [0.43928075],\n",
       "       [0.72532964],\n",
       "       [0.67487454],\n",
       "       [0.3565501 ],\n",
       "       [0.24230126],\n",
       "       [0.26756504],\n",
       "       [0.72532964],\n",
       "       [0.35063833],\n",
       "       [0.09101767],\n",
       "       [0.1989284 ],\n",
       "       [0.13552499],\n",
       "       [0.72532964],\n",
       "       [0.14203958],\n",
       "       [0.10581085],\n",
       "       [0.67790675],\n",
       "       [0.52365184],\n",
       "       [0.08632988],\n",
       "       [0.7026471 ],\n",
       "       [0.72532964],\n",
       "       [0.18055685],\n",
       "       [0.7126401 ],\n",
       "       [0.3483443 ],\n",
       "       [0.72532964]], dtype=float32)"
      ]
     },
     "execution_count": 26,
     "metadata": {},
     "output_type": "execute_result"
    }
   ],
   "source": [
    "# It gives the probability of being 1 (out of 0 and 1)\n",
    "predictions"
   ]
  },
  {
   "cell_type": "code",
   "execution_count": 27,
   "metadata": {
    "colab": {
     "base_uri": "https://localhost:8080/"
    },
    "executionInfo": {
     "elapsed": 410,
     "status": "ok",
     "timestamp": 1734452492045,
     "user": {
      "displayName": "Hifsa Kazmi",
      "userId": "11358809418384740406"
     },
     "user_tz": -300
    },
    "id": "r4xGvuVpbD0F",
    "outputId": "95654475-cfaa-45a4-cd2e-16c181253d08"
   },
   "outputs": [
    {
     "data": {
      "text/plain": [
       "array([[1],\n",
       "       [0],\n",
       "       [1],\n",
       "       [0],\n",
       "       [0],\n",
       "       [0],\n",
       "       [0],\n",
       "       [0],\n",
       "       [1],\n",
       "       [1],\n",
       "       [0],\n",
       "       [0],\n",
       "       [1],\n",
       "       [0],\n",
       "       [0],\n",
       "       [0],\n",
       "       [1],\n",
       "       [1],\n",
       "       [0],\n",
       "       [0],\n",
       "       [1],\n",
       "       [0],\n",
       "       [0],\n",
       "       [1],\n",
       "       [1],\n",
       "       [1],\n",
       "       [0],\n",
       "       [1],\n",
       "       [0],\n",
       "       [0],\n",
       "       [1],\n",
       "       [0],\n",
       "       [1],\n",
       "       [1],\n",
       "       [1],\n",
       "       [0],\n",
       "       [0],\n",
       "       [1],\n",
       "       [0],\n",
       "       [1],\n",
       "       [0],\n",
       "       [1],\n",
       "       [0],\n",
       "       [0],\n",
       "       [1],\n",
       "       [1],\n",
       "       [0],\n",
       "       [0],\n",
       "       [1],\n",
       "       [0],\n",
       "       [0],\n",
       "       [1],\n",
       "       [1],\n",
       "       [1],\n",
       "       [1],\n",
       "       [0],\n",
       "       [1],\n",
       "       [1],\n",
       "       [0],\n",
       "       [1],\n",
       "       [0],\n",
       "       [0],\n",
       "       [0],\n",
       "       [0],\n",
       "       [0],\n",
       "       [1],\n",
       "       [1],\n",
       "       [1],\n",
       "       [0],\n",
       "       [0],\n",
       "       [0],\n",
       "       [0],\n",
       "       [1],\n",
       "       [0],\n",
       "       [0],\n",
       "       [1],\n",
       "       [0],\n",
       "       [0],\n",
       "       [0],\n",
       "       [0],\n",
       "       [1],\n",
       "       [1],\n",
       "       [0],\n",
       "       [0],\n",
       "       [1],\n",
       "       [1],\n",
       "       [0],\n",
       "       [0],\n",
       "       [0],\n",
       "       [0],\n",
       "       [0],\n",
       "       [1],\n",
       "       [1],\n",
       "       [1],\n",
       "       [1],\n",
       "       [0],\n",
       "       [0],\n",
       "       [0],\n",
       "       [1],\n",
       "       [1],\n",
       "       [0],\n",
       "       [1],\n",
       "       [0],\n",
       "       [0],\n",
       "       [0],\n",
       "       [1],\n",
       "       [0],\n",
       "       [1],\n",
       "       [1],\n",
       "       [1],\n",
       "       [0],\n",
       "       [1],\n",
       "       [0],\n",
       "       [0],\n",
       "       [1],\n",
       "       [0],\n",
       "       [0],\n",
       "       [0],\n",
       "       [1],\n",
       "       [1],\n",
       "       [0],\n",
       "       [0],\n",
       "       [1],\n",
       "       [1],\n",
       "       [1],\n",
       "       [1],\n",
       "       [1],\n",
       "       [0],\n",
       "       [0],\n",
       "       [0],\n",
       "       [0],\n",
       "       [0],\n",
       "       [0],\n",
       "       [0],\n",
       "       [0],\n",
       "       [1],\n",
       "       [0],\n",
       "       [0],\n",
       "       [0],\n",
       "       [0],\n",
       "       [1],\n",
       "       [0],\n",
       "       [1],\n",
       "       [1],\n",
       "       [0],\n",
       "       [0],\n",
       "       [0],\n",
       "       [0],\n",
       "       [0],\n",
       "       [1],\n",
       "       [0],\n",
       "       [0],\n",
       "       [0],\n",
       "       [0],\n",
       "       [1],\n",
       "       [0],\n",
       "       [0],\n",
       "       [0],\n",
       "       [1],\n",
       "       [1],\n",
       "       [0],\n",
       "       [1],\n",
       "       [0],\n",
       "       [0],\n",
       "       [0],\n",
       "       [1],\n",
       "       [1],\n",
       "       [0],\n",
       "       [1],\n",
       "       [1],\n",
       "       [0],\n",
       "       [1],\n",
       "       [1],\n",
       "       [0],\n",
       "       [1],\n",
       "       [0],\n",
       "       [0],\n",
       "       [0],\n",
       "       [1],\n",
       "       [0],\n",
       "       [0],\n",
       "       [1],\n",
       "       [1],\n",
       "       [0],\n",
       "       [0],\n",
       "       [1],\n",
       "       [0],\n",
       "       [1],\n",
       "       [1],\n",
       "       [0],\n",
       "       [0],\n",
       "       [0],\n",
       "       [0],\n",
       "       [0],\n",
       "       [1],\n",
       "       [0],\n",
       "       [0],\n",
       "       [0],\n",
       "       [1],\n",
       "       [0],\n",
       "       [0],\n",
       "       [0],\n",
       "       [0],\n",
       "       [0],\n",
       "       [0],\n",
       "       [0],\n",
       "       [0],\n",
       "       [0],\n",
       "       [0],\n",
       "       [0],\n",
       "       [0],\n",
       "       [1],\n",
       "       [0],\n",
       "       [0],\n",
       "       [0],\n",
       "       [1],\n",
       "       [1],\n",
       "       [0],\n",
       "       [0],\n",
       "       [0],\n",
       "       [0],\n",
       "       [0],\n",
       "       [0],\n",
       "       [0],\n",
       "       [0],\n",
       "       [1],\n",
       "       [0],\n",
       "       [0],\n",
       "       [1],\n",
       "       [0],\n",
       "       [0],\n",
       "       [1],\n",
       "       [1],\n",
       "       [0],\n",
       "       [1],\n",
       "       [0],\n",
       "       [0],\n",
       "       [0],\n",
       "       [1],\n",
       "       [1],\n",
       "       [0],\n",
       "       [1],\n",
       "       [1],\n",
       "       [0],\n",
       "       [1],\n",
       "       [0],\n",
       "       [0],\n",
       "       [0],\n",
       "       [0],\n",
       "       [0],\n",
       "       [0],\n",
       "       [1],\n",
       "       [0],\n",
       "       [1],\n",
       "       [1],\n",
       "       [0],\n",
       "       [0],\n",
       "       [0],\n",
       "       [1],\n",
       "       [0],\n",
       "       [0],\n",
       "       [0],\n",
       "       [0],\n",
       "       [1],\n",
       "       [0],\n",
       "       [0],\n",
       "       [1],\n",
       "       [1],\n",
       "       [0],\n",
       "       [1],\n",
       "       [1],\n",
       "       [0],\n",
       "       [1],\n",
       "       [0],\n",
       "       [1]])"
      ]
     },
     "execution_count": 27,
     "metadata": {},
     "output_type": "execute_result"
    }
   ],
   "source": [
    "predicted_class = np.where(predictions > 0.5, 1, 0)\n",
    "predicted_class"
   ]
  },
  {
   "cell_type": "markdown",
   "metadata": {
    "id": "7wotwr-kbevs"
   },
   "source": [
    "# Evaluating the Model Performance"
   ]
  },
  {
   "cell_type": "code",
   "execution_count": 28,
   "metadata": {
    "colab": {
     "base_uri": "https://localhost:8080/"
    },
    "executionInfo": {
     "elapsed": 404,
     "status": "ok",
     "timestamp": 1734452628610,
     "user": {
      "displayName": "Hifsa Kazmi",
      "userId": "11358809418384740406"
     },
     "user_tz": -300
    },
    "id": "qxQHP3q3bkbE",
    "outputId": "15035667-1513-4457-f4a3-2030a3a71588"
   },
   "outputs": [
    {
     "data": {
      "text/plain": [
       "['loss', 'compile_metrics']"
      ]
     },
     "execution_count": 28,
     "metadata": {},
     "output_type": "execute_result"
    }
   ],
   "source": [
    "model.metrics_names"
   ]
  },
  {
   "cell_type": "code",
   "execution_count": 29,
   "metadata": {
    "colab": {
     "base_uri": "https://localhost:8080/"
    },
    "executionInfo": {
     "elapsed": 490,
     "status": "ok",
     "timestamp": 1734452708794,
     "user": {
      "displayName": "Hifsa Kazmi",
      "userId": "11358809418384740406"
     },
     "user_tz": -300
    },
    "id": "YBiUcDGGb3Mr",
    "outputId": "2ec0cca7-74ef-4af5-8451-c4791b1f8f24"
   },
   "outputs": [
    {
     "name": "stdout",
     "output_type": "stream",
     "text": [
      "\u001b[1m9/9\u001b[0m \u001b[32m━━━━━━━━━━━━━━━━━━━━\u001b[0m\u001b[37m\u001b[0m \u001b[1m0s\u001b[0m 7ms/step - accuracy: 0.9401 - loss: 0.3040  \n"
     ]
    },
    {
     "data": {
      "text/plain": [
       "[0.3219158351421356, 0.9200000166893005]"
      ]
     },
     "execution_count": 29,
     "metadata": {},
     "output_type": "execute_result"
    }
   ],
   "source": [
    "model.evaluate(x=scaled_X_test, y = y_test)"
   ]
  },
  {
   "cell_type": "code",
   "execution_count": 30,
   "metadata": {
    "executionInfo": {
     "elapsed": 357,
     "status": "ok",
     "timestamp": 1734452743888,
     "user": {
      "displayName": "Hifsa Kazmi",
      "userId": "11358809418384740406"
     },
     "user_tz": -300
    },
    "id": "xJ5ZRNHHcDDk"
   },
   "outputs": [],
   "source": [
    "from sklearn.metrics import confusion_matrix, classification_report"
   ]
  },
  {
   "cell_type": "code",
   "execution_count": 31,
   "metadata": {
    "colab": {
     "base_uri": "https://localhost:8080/"
    },
    "executionInfo": {
     "elapsed": 341,
     "status": "ok",
     "timestamp": 1734452773994,
     "user": {
      "displayName": "Hifsa Kazmi",
      "userId": "11358809418384740406"
     },
     "user_tz": -300
    },
    "id": "5ttuRpKccJEh",
    "outputId": "5c8e4174-4f08-4241-ac93-cb6ac92de30e"
   },
   "outputs": [
    {
     "name": "stdout",
     "output_type": "stream",
     "text": [
      "              precision    recall  f1-score   support\n",
      "\n",
      "         0.0       0.90      0.97      0.93       157\n",
      "         1.0       0.95      0.86      0.90       118\n",
      "\n",
      "    accuracy                           0.92       275\n",
      "   macro avg       0.93      0.91      0.92       275\n",
      "weighted avg       0.92      0.92      0.92       275\n",
      "\n"
     ]
    }
   ],
   "source": [
    "print(classification_report(y_test, predicted_class))"
   ]
  },
  {
   "cell_type": "code",
   "execution_count": 32,
   "metadata": {
    "colab": {
     "base_uri": "https://localhost:8080/"
    },
    "executionInfo": {
     "elapsed": 374,
     "status": "ok",
     "timestamp": 1734452898659,
     "user": {
      "displayName": "Hifsa Kazmi",
      "userId": "11358809418384740406"
     },
     "user_tz": -300
    },
    "id": "yZYHXolacZ2Y",
    "outputId": "61f60c3b-ed9d-4a82-8738-33408d488f3f"
   },
   "outputs": [
    {
     "name": "stderr",
     "output_type": "stream",
     "text": [
      "WARNING:absl:You are saving your model as an HDF5 file via `model.save()` or `keras.saving.save_model(model)`. This file format is considered legacy. We recommend using instead the native Keras format, e.g. `model.save('my_model.keras')` or `keras.saving.save_model(model, 'my_model.keras')`. \n"
     ]
    }
   ],
   "source": [
    "model.save('models/model1.h5')"
   ]
  },
  {
   "cell_type": "markdown",
   "metadata": {
    "id": "xSjzdawahAkh"
   },
   "source": [
    "Hyperparameters are what we can change to get better values of w tensor and b."
   ]
  },
  {
   "cell_type": "code",
   "execution_count": 33,
   "metadata": {
    "executionInfo": {
     "elapsed": 349,
     "status": "ok",
     "timestamp": 1734454352634,
     "user": {
      "displayName": "Hifsa Kazmi",
      "userId": "11358809418384740406"
     },
     "user_tz": -300
    },
    "id": "kL00hYn-iLEi"
   },
   "outputs": [],
   "source": [
    "from keras.models import load_model"
   ]
  },
  {
   "cell_type": "code",
   "execution_count": 34,
   "metadata": {
    "colab": {
     "base_uri": "https://localhost:8080/"
    },
    "executionInfo": {
     "elapsed": 712,
     "status": "ok",
     "timestamp": 1734454372224,
     "user": {
      "displayName": "Hifsa Kazmi",
      "userId": "11358809418384740406"
     },
     "user_tz": -300
    },
    "id": "dfhnDqfKiOqm",
    "outputId": "0ebdf32c-6d75-488d-c3d3-7b7de1e76cf4"
   },
   "outputs": [
    {
     "name": "stderr",
     "output_type": "stream",
     "text": [
      "WARNING:absl:Compiled the loaded model, but the compiled metrics have yet to be built. `model.compile_metrics` will be empty until you train or evaluate the model.\n"
     ]
    },
    {
     "data": {
      "text/plain": [
       "<Sequential name=sequential, built=True>"
      ]
     },
     "execution_count": 34,
     "metadata": {},
     "output_type": "execute_result"
    }
   ],
   "source": [
    "load_model('models/model1.h5')"
   ]
  }
 ],
 "metadata": {
  "colab": {
   "authorship_tag": "ABX9TyPorHKspQuOe22vU3cvsbWR",
   "provenance": []
  },
  "kernelspec": {
   "display_name": "Python (ai-py3.12)",
   "language": "python",
   "name": "ai-env-312"
  },
  "language_info": {
   "codemirror_mode": {
    "name": "ipython",
    "version": 3
   },
   "file_extension": ".py",
   "mimetype": "text/x-python",
   "name": "python",
   "nbconvert_exporter": "python",
   "pygments_lexer": "ipython3",
   "version": "3.12.8"
  }
 },
 "nbformat": 4,
 "nbformat_minor": 4
}
