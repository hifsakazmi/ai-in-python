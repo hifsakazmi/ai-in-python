{
 "cells": [
  {
   "cell_type": "markdown",
   "id": "5377e200-aa15-42da-8bc0-2481456d682d",
   "metadata": {},
   "source": [
    "# Deep Learning for Weight Classification\n"
   ]
  },
  {
   "cell_type": "markdown",
   "id": "da446cb9-fe75-4c51-8cd8-6de8fce3ecce",
   "metadata": {},
   "source": [
    "## Data Description\n"
   ]
  },
  {
   "cell_type": "code",
   "execution_count": null,
   "id": "9151dfd4-b7de-4de0-a6c2-dfcef0923a56",
   "metadata": {},
   "outputs": [],
   "source": []
  }
 ],
 "metadata": {
  "kernelspec": {
   "display_name": "Python (ai-py3.12)",
   "language": "python",
   "name": "ai-env-312"
  },
  "language_info": {
   "codemirror_mode": {
    "name": "ipython",
    "version": 3
   },
   "file_extension": ".py",
   "mimetype": "text/x-python",
   "name": "python",
   "nbconvert_exporter": "python",
   "pygments_lexer": "ipython3",
   "version": "3.12.8"
  }
 },
 "nbformat": 4,
 "nbformat_minor": 5
}
